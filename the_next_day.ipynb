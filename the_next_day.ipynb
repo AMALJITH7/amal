{
  "nbformat": 4,
  "nbformat_minor": 0,
  "metadata": {
    "colab": {
      "provenance": [],
      "authorship_tag": "ABX9TyPcv8r8kI2l4wBg9mI6nR5J",
      "include_colab_link": true
    },
    "kernelspec": {
      "name": "python3",
      "display_name": "Python 3"
    },
    "language_info": {
      "name": "python"
    }
  },
  "cells": [
    {
      "cell_type": "markdown",
      "metadata": {
        "id": "view-in-github",
        "colab_type": "text"
      },
      "source": [
        "<a href=\"https://colab.research.google.com/github/AMALJITH7/amal/blob/main/the_next_day.ipynb\" target=\"_parent\"><img src=\"https://colab.research.google.com/assets/colab-badge.svg\" alt=\"Open In Colab\"/></a>"
      ]
    },
    {
      "cell_type": "code",
      "execution_count": null,
      "metadata": {
        "colab": {
          "base_uri": "https://localhost:8080/"
        },
        "id": "x7nbsVONAsRR",
        "outputId": "95bf0ee8-ecfe-4774-fb33-0eab4df499ad"
      },
      "outputs": [
        {
          "output_type": "stream",
          "name": "stdout",
          "text": [
            "enter the year:2021\n",
            "enter the month between[1-12]:12\n",
            "enter the day between [1-31]:31\n",
            "the next day is [yyyy/mm/dd]2022/1/1\n"
          ]
        }
      ],
      "source": [
        "year=int(input(\"enter the year:\"))\n",
        "if (year%400==0 or year%4==0):\n",
        "  leap_year=True\n",
        "else:\n",
        "  leap_year=False\n",
        "\n",
        "month=int(input(\"enter the month between[1-12]:\"))\n",
        "if month in (1,3,5,7,8,10,12):\n",
        "  month_length=31\n",
        "elif month==2:\n",
        "  if leap_year:\n",
        "   month_length==29\n",
        "  else:\n",
        "   month_length==28\n",
        "else:\n",
        "  month_length==30\n",
        "\n",
        "day=int(input(\"enter the day between [1-31]:\"))\n",
        "if day<month_length:\n",
        "  day+=1\n",
        "else:\n",
        "  day=1\n",
        "  if month==12:\n",
        "      month=1\n",
        "      year+=1\n",
        "  else:\n",
        "   month+=1\n",
        "print(\"the next day is [yyyy/mm/dd]%d/%d/%d\" %(year,month,day))\n",
        "\n",
        "\n",
        "\n",
        "\n",
        "\n",
        "\n",
        "\n"
      ]
    },
    {
      "cell_type": "code",
      "source": [],
      "metadata": {
        "id": "SF_gzeUFPm6U"
      },
      "execution_count": null,
      "outputs": []
    }
  ]
}